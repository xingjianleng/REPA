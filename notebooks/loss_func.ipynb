{
 "cells": [
  {
   "cell_type": "code",
   "execution_count": 1,
   "metadata": {},
   "outputs": [],
   "source": [
    "import torch"
   ]
  },
  {
   "cell_type": "code",
   "execution_count": 2,
   "metadata": {},
   "outputs": [
    {
     "name": "stdout",
     "output_type": "stream",
     "text": [
      "torch.Size([128, 256, 768])\n",
      "torch.Size([128, 256, 768])\n"
     ]
    }
   ],
   "source": [
    "# Initialize the parameters here...\n",
    "ENCODER_NUM = 1\n",
    "B = 128\n",
    "L = 256\n",
    "D_ENCODER = 768\n",
    "D_SIT = 1024\n",
    "PROJ = torch.nn.Linear(D_SIT, D_ENCODER)\n",
    "\n",
    "def mean_flat(x):\n",
    "    return torch.mean(x, dim=list(range(1, len(x.size()))))\n",
    "\n",
    "zs = []  # <-- features from encoders\n",
    "zs_tilde = []  # <-- projected SiT features\n",
    "\n",
    "for _ in range(ENCODER_NUM):\n",
    "    encoder_feat = torch.randn(B, L, D_ENCODER)\n",
    "    zs.append(encoder_feat)\n",
    "\n",
    "for _ in range(ENCODER_NUM):\n",
    "    sit_feat = torch.randn(B, L, D_SIT)\n",
    "    zs_tilde.append(PROJ(sit_feat))\n",
    "\n",
    "print(zs_tilde[0].shape)\n",
    "print(zs[0].shape)"
   ]
  },
  {
   "cell_type": "code",
   "execution_count": 3,
   "metadata": {},
   "outputs": [
    {
     "name": "stdout",
     "output_type": "stream",
     "text": [
      "Summed loss: -0.004410076420754194\n",
      "Averaged loss: -3.445372203714214e-05\n"
     ]
    }
   ],
   "source": [
    "### Check if the original augmentation loss is working...\n",
    "proj_loss = 0.\n",
    "bsz = zs[0].shape[0]\n",
    "for i, (z, z_tilde) in enumerate(zip(zs, zs_tilde)):\n",
    "    # B x L x D\n",
    "    for j, (z_j, z_tilde_j) in enumerate(zip(z, z_tilde)):\n",
    "        # L x D\n",
    "        z_tilde_j = torch.nn.functional.normalize(z_tilde_j, dim=-1) \n",
    "        z_j = torch.nn.functional.normalize(z_j, dim=-1)\n",
    "        proj_loss += mean_flat(-(z_j * z_tilde_j).sum(dim=-1))\n",
    "print(f\"Summed loss: {proj_loss}\")\n",
    "proj_loss /= (len(zs) * bsz)\n",
    "print(f\"Averaged loss: {proj_loss}\")"
   ]
  },
  {
   "cell_type": "code",
   "execution_count": 4,
   "metadata": {},
   "outputs": [],
   "source": [
    "### Let's investigate how we can make the semantic relation loss(regularization) work...\n",
    "\n",
    "### We can do it on three dimensions (B, L, D), see which one works\n",
    "### For the L dimension, we can drop drop the MLP projection layer since the D dimension is canceled out\n",
    "\n",
    "def normalize_rows(a_mat):\n",
    "    return a_mat / (torch.norm(a_mat, dim=-1, keepdim=True) + 1e-8)\n",
    "\n",
    "def element_wise_l1_loss(a_mat, a_tilde_mat):\n",
    "    # This is the element-wise L1 loss, batch-averaged\n",
    "    return torch.abs(a_mat - a_tilde_mat).sum(dim=list(range(1, len(a_mat.shape)))).mean(0)\n",
    "\n",
    "def element_wise_l2_loss(a_mat, a_tilde_mat):\n",
    "    # This is the element-wise L2 loss, batch-averaged\n",
    "    return torch.sqrt(torch.pow(a_mat - a_tilde_mat, 2).sum(dim=list(range(1, len(a_mat.shape))))).mean(0)"
   ]
  },
  {
   "cell_type": "code",
   "execution_count": 5,
   "metadata": {},
   "outputs": [
    {
     "name": "stdout",
     "output_type": "stream",
     "text": [
      "Summed loss: 2578.52978515625, 12.611856460571289\n",
      "Averaged loss: 2578.52978515625, 12.611856460571289\n"
     ]
    }
   ],
   "source": [
    "# D dimension reduction, (B, L, D) x (B, D, L) = (B, L, L) (http://arxiv.org/abs/2104.15082)\n",
    "proj_loss_l1 = 0.\n",
    "proj_loss_l2 = 0.\n",
    "for i, (z, z_tilde) in enumerate(zip(zs, zs_tilde)):\n",
    "    # Compute the semantic relation activation matrices A -> (B x L x L)\n",
    "    a_mat = torch.matmul(z, z.transpose(1, 2))\n",
    "    a_tilde_mat = torch.matmul(z_tilde, z_tilde.transpose(1, 2))\n",
    "    # normalize the activate row-wise (dim=-1) with L2 norm\n",
    "    a_mat = normalize_rows(a_mat)\n",
    "    a_tilde_mat = normalize_rows(a_tilde_mat)\n",
    "    # Compute the element-wise L1 loss\n",
    "    proj_loss_l1 += element_wise_l1_loss(a_mat, a_tilde_mat)\n",
    "    proj_loss_l2 += element_wise_l2_loss(a_mat, a_tilde_mat)\n",
    "\n",
    "print(f\"Summed loss: {proj_loss_l1}, {proj_loss_l2}\")\n",
    "# External-encoder-averaged\n",
    "proj_loss_l1 /= (len(zs))\n",
    "proj_loss_l2 /= (len(zs))\n",
    "print(f\"Averaged loss: {proj_loss_l1}, {proj_loss_l2}\")\n",
    "\n",
    "### Think: Is it reasonable to use L1 loss here although we are using L2 normalization?\n",
    "### Think: Is there any problem with the paper..."
   ]
  },
  {
   "cell_type": "code",
   "execution_count": 6,
   "metadata": {},
   "outputs": [
    {
     "name": "stdout",
     "output_type": "stream",
     "text": [
      "Summed loss: 0.04479004070162773\n",
      "Averaged loss: 0.04479004070162773\n"
     ]
    }
   ],
   "source": [
    "# L dimension reduction, (B, D, L) x (B, L, D) = (B, D, D) (http://arxiv.org/abs/2104.10602)\n",
    "proj_loss = 0.\n",
    "for i, (z, z_tilde) in enumerate(zip(zs, zs_tilde)):\n",
    "    emb_dim = z.shape[-1]\n",
    "    # Compute the Gram matrices (channel-wise self-correlation matrices)\n",
    "    g_mat = torch.matmul(z.transpose(1, 2), z)\n",
    "    g_tilde_mat = torch.matmul(z_tilde.transpose(1, 2), z_tilde)\n",
    "    # normalize the Gram matrices row-wise (dim=-1) with L2 norm\n",
    "    g_mat = normalize_rows(g_mat)\n",
    "    g_tilde_mat = normalize_rows(g_tilde_mat)\n",
    "    # Compute the element-wise (Fronebius) L2 loss, normalize it by dividing D\n",
    "    proj_loss += element_wise_l2_loss(g_mat, g_tilde_mat) / emb_dim\n",
    "\n",
    "print(f\"Summed loss: {proj_loss}\")\n",
    "# External-encoder-averaged\n",
    "proj_loss /= (len(zs))\n",
    "print(f\"Averaged loss: {proj_loss}\")"
   ]
  },
  {
   "cell_type": "code",
   "execution_count": 7,
   "metadata": {},
   "outputs": [
    {
     "name": "stdout",
     "output_type": "stream",
     "text": [
      "Summed loss: 3.0201676054275595e-05\n",
      "Averaged loss: 3.0201676054275595e-05\n"
     ]
    }
   ],
   "source": [
    "# B dimension reduction, (B, LD) x (LD, B) = (B, B) (http://arxiv.org/abs/1907.09682)\n",
    "proj_loss = 0.\n",
    "for i, (z, z_tilde) in enumerate(zip(zs, zs_tilde)):\n",
    "    bs = z.shape[0]\n",
    "    # First do the reshape to (B, LD)\n",
    "    q_mat = z.view(bs, -1)\n",
    "    q_tilde_mat = z_tilde.view(bs, -1)\n",
    "    # compute the self-correlation within the mini-batch\n",
    "    g_mat = torch.matmul(q_mat, q_mat.transpose(0, 1))\n",
    "    g_tilde_mat = torch.matmul(q_tilde_mat, q_tilde_mat.transpose(0, 1))\n",
    "    # normalize the Gram matrices row-wise (dim=-1) with L2 norm\n",
    "    g_mat = normalize_rows(g_mat)\n",
    "    g_tilde_mat = normalize_rows(g_tilde_mat)\n",
    "    # Compute the element-wise (Fronebius) L2 loss, normalize it by dividing B^2\n",
    "    proj_loss += element_wise_l2_loss(g_mat.unsqueeze(0), g_tilde_mat.unsqueeze(0)) / (bs * bs)\n",
    "\n",
    "print(f\"Summed loss: {proj_loss}\")\n",
    "# External-encoder-averaged\n",
    "proj_loss /= (len(zs))\n",
    "print(f\"Averaged loss: {proj_loss}\")"
   ]
  },
  {
   "cell_type": "code",
   "execution_count": null,
   "metadata": {},
   "outputs": [],
   "source": []
  }
 ],
 "metadata": {
  "kernelspec": {
   "display_name": "repa",
   "language": "python",
   "name": "python3"
  },
  "language_info": {
   "codemirror_mode": {
    "name": "ipython",
    "version": 3
   },
   "file_extension": ".py",
   "mimetype": "text/x-python",
   "name": "python",
   "nbconvert_exporter": "python",
   "pygments_lexer": "ipython3",
   "version": "3.9.20"
  }
 },
 "nbformat": 4,
 "nbformat_minor": 2
}
