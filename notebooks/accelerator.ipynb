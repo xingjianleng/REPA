{
 "cells": [
  {
   "cell_type": "code",
   "execution_count": null,
   "metadata": {},
   "outputs": [],
   "source": [
    "%cd ..\n",
    "%env CUDA_VISIBLE_DEVICES=3"
   ]
  },
  {
   "cell_type": "code",
   "execution_count": null,
   "metadata": {},
   "outputs": [],
   "source": [
    "import torch\n",
    "import copy\n",
    "from accelerate import Accelerator\n",
    "from accelerate.utils import set_seed\n",
    "from torch.utils.data import TensorDataset, DataLoader"
   ]
  },
  {
   "cell_type": "code",
   "execution_count": null,
   "metadata": {},
   "outputs": [],
   "source": [
    "# seed\n",
    "set_seed(0)\n",
    "\n",
    "# define toy inputs and labels\n",
    "x = torch.tensor([1., 2., 3., 4., 5., 6., 7., 8.])\n",
    "y = torch.tensor([2., 4., 6., 8., 10., 12., 14., 16.])\n",
    "gradient_accumulation_steps = 4\n",
    "batch_size = len(x) // gradient_accumulation_steps\n",
    "\n",
    "# define dataset and dataloader\n",
    "dataset = TensorDataset(x, y)\n",
    "dataloader = DataLoader(dataset, batch_size=batch_size)\n",
    "\n",
    "# define model, optimizer and loss function\n",
    "class SimpleLinearModel(torch.nn.Module):\n",
    "    def __init__(self):\n",
    "        super(SimpleLinearModel, self).__init__()\n",
    "        self.weight = torch.nn.Parameter(torch.zeros((1, 1)))\n",
    "\n",
    "    def forward(self, inputs):\n",
    "        return inputs @ self.weight\n",
    "\n",
    "model = SimpleLinearModel()\n",
    "model_clone = copy.deepcopy(model)\n",
    "criterion = torch.nn.MSELoss()\n",
    "model_optimizer = torch.optim.SGD(model.parameters(), lr=0.02)\n",
    "accelerator = Accelerator(gradient_accumulation_steps=gradient_accumulation_steps)\n",
    "model, model_optimizer, dataloader = accelerator.prepare(model, model_optimizer, dataloader)\n",
    "model_clone_optimizer = torch.optim.SGD(model_clone.parameters(), lr=0.02)\n",
    "print(f\"initial model weight is {model.weight.mean().item():.5f}\")\n",
    "print(f\"initial model weight is {model_clone.weight.mean().item():.5f}\")"
   ]
  },
  {
   "cell_type": "code",
   "execution_count": null,
   "metadata": {},
   "outputs": [],
   "source": [
    "# w/ accumulation update, the real batch size is 2x4 = 8, we use batch size 2 and the gradient accumulation of 4\n",
    "for i, (inputs, labels) in enumerate(dataloader):\n",
    "    with accelerator.accumulate(model):\n",
    "        inputs = inputs.view(-1, 1)\n",
    "        print(i, inputs.flatten())\n",
    "        labels = labels.view(-1, 1)\n",
    "        outputs = model(inputs)\n",
    "        loss = criterion(outputs, labels)\n",
    "        accelerator.backward(loss)\n",
    "        model_optimizer.step()\n",
    "        model_optimizer.zero_grad()\n",
    "\n",
    "# w/o accumulation update, the real batch size is 8, because loss is computed on the whole dataset and compute the gradient\n",
    "loss = criterion(x.view(-1, 1) @ model_clone.weight, y.view(-1, 1))\n",
    "model_clone_optimizer.zero_grad()\n",
    "loss.backward()\n",
    "model_clone_optimizer.step()\n",
    "\n",
    "# Comparison of with and without accumulation\n",
    "print(f\"w/ accumulation, the final model weight is {model.weight.mean().item():.5f}\")\n",
    "print(f\"w/o accumulation, the final model weight is {model_clone.weight.mean().item():.5f}\")"
   ]
  },
  {
   "cell_type": "code",
   "execution_count": null,
   "metadata": {},
   "outputs": [],
   "source": []
  }
 ],
 "metadata": {
  "kernelspec": {
   "display_name": "repa",
   "language": "python",
   "name": "python3"
  },
  "language_info": {
   "codemirror_mode": {
    "name": "ipython",
    "version": 3
   },
   "file_extension": ".py",
   "mimetype": "text/x-python",
   "name": "python",
   "nbconvert_exporter": "python",
   "pygments_lexer": "ipython3",
   "version": "3.9.20"
  }
 },
 "nbformat": 4,
 "nbformat_minor": 2
}
