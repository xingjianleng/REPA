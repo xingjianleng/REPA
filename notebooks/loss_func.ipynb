{
 "cells": [
  {
   "cell_type": "code",
   "execution_count": 1,
   "metadata": {},
   "outputs": [],
   "source": [
    "import torch"
   ]
  },
  {
   "cell_type": "code",
   "execution_count": 2,
   "metadata": {},
   "outputs": [
    {
     "name": "stdout",
     "output_type": "stream",
     "text": [
      "torch.Size([256, 256, 768])\n",
      "torch.Size([256, 256, 768])\n"
     ]
    }
   ],
   "source": [
    "# Initialize the parameters here...\n",
    "ENCODER_NUM = 1\n",
    "B = 256\n",
    "L = 256\n",
    "D_ENCODER = 768\n",
    "D_SIT = 1024\n",
    "PROJ = torch.nn.Linear(D_SIT, D_ENCODER)\n",
    "\n",
    "def mean_flat(x):\n",
    "    return torch.mean(x, dim=list(range(1, len(x.size()))))\n",
    "\n",
    "zs = []  # <-- features from encoders\n",
    "zs_tilde = []  # <-- projected SiT features\n",
    "\n",
    "for _ in range(ENCODER_NUM):\n",
    "    encoder_feat = torch.randn(B, L, D_ENCODER)\n",
    "    zs.append(encoder_feat)\n",
    "\n",
    "for _ in range(ENCODER_NUM):\n",
    "    sit_feat = torch.randn(B, L, D_SIT)\n",
    "    zs_tilde.append(PROJ(sit_feat))\n",
    "\n",
    "print(zs_tilde[0].shape)\n",
    "print(zs[0].shape)"
   ]
  },
  {
   "cell_type": "code",
   "execution_count": 10,
   "metadata": {},
   "outputs": [
    {
     "name": "stdout",
     "output_type": "stream",
     "text": [
      "Summed loss: 0.02978396601974964\n",
      "Averaged loss: 0.00011634361726464704\n"
     ]
    }
   ],
   "source": [
    "### Check if the original augmentation loss is working...\n",
    "proj_loss = 0.\n",
    "bsz = zs[0].shape[0]\n",
    "for i, (z, z_tilde) in enumerate(zip(zs, zs_tilde)):\n",
    "    # B x L x D\n",
    "    for j, (z_j, z_tilde_j) in enumerate(zip(z, z_tilde)):\n",
    "        # L x D\n",
    "        z_tilde_j = torch.nn.functional.normalize(z_tilde_j, dim=-1) \n",
    "        z_j = torch.nn.functional.normalize(z_j, dim=-1)\n",
    "        proj_loss += mean_flat(-(z_j * z_tilde_j).sum(dim=-1))\n",
    "print(f\"Summed loss: {proj_loss}\")\n",
    "proj_loss /= (len(zs) * bsz)\n",
    "print(f\"Averaged loss: {proj_loss}\")"
   ]
  },
  {
   "cell_type": "code",
   "execution_count": null,
   "metadata": {},
   "outputs": [],
   "source": [
    "### Let's investigate how we can make the semantic relation loss(regularization) work...\n",
    "\n",
    "### We can do it on three dimensions (B, L, D), see which one works\n",
    "### For the L dimension, we can drop drop the MLP projection layer since the D dimension is canceled out\n",
    "\n"
   ]
  },
  {
   "cell_type": "code",
   "execution_count": null,
   "metadata": {},
   "outputs": [],
   "source": []
  }
 ],
 "metadata": {
  "kernelspec": {
   "display_name": "repa",
   "language": "python",
   "name": "python3"
  },
  "language_info": {
   "codemirror_mode": {
    "name": "ipython",
    "version": 3
   },
   "file_extension": ".py",
   "mimetype": "text/x-python",
   "name": "python",
   "nbconvert_exporter": "python",
   "pygments_lexer": "ipython3",
   "version": "3.9.20"
  }
 },
 "nbformat": 4,
 "nbformat_minor": 2
}
